{
 "cells": [
  {
   "cell_type": "markdown",
   "metadata": {
    "id": "D_XJcxqx22uj"
   },
   "source": [
    "## Using Gradio to create a simple interface.\n",
    "\n",
    "Check out the library on [github](https://github.com/gradio-app/gradio-UI) and see the [getting started](https://gradio.app/getting_started.html) page for more demos."
   ]
  },
  {
   "cell_type": "markdown",
   "metadata": {
    "id": "AUHtJ20jYqd9"
   },
   "source": [
    "We'll start with a basic function that greets an input name."
   ]
  },
  {
   "cell_type": "code",
   "execution_count": 1,
   "metadata": {
    "colab": {
     "base_uri": "https://localhost:8080/",
     "height": 35
    },
    "id": "qtlFLbke2Sob",
    "outputId": "dce41c53-08d5-434e-9812-02207050bca7"
   },
   "outputs": [],
   "source": [
    "def draw(inp):\n",
    "    drawing = inp\n",
    "    drawing_filename = 'images/' + drawing.replace(' ', '_') + '.png'\n",
    "    if os.path.exists(drawing_filename):\n",
    "        print(\"found drawing \", drawing_filename)\n",
    "        return Image.open(drawing_filename) \n",
    "    print(\"generating drawing '\", drawing, \"'\", drawing_filename)\n",
    "    #pipe = StableDiffusionPipeline.from_pretrained(\"../stable-diffusion-v1-5\", torch_dtype=torch.float16)\n",
    "    pipe = StableDiffusionPipeline.from_pretrained(\"../stable-diffusion-2\", torch_dtype=torch.float16)\n",
    "    pipe = pipe.to(\"cuda\")\n",
    "    image = pipe(drawing).images[0]  \n",
    "    image.seek(0)\n",
    "    image.save(drawing_filename)\n",
    "    return image"
   ]
  },
  {
   "cell_type": "markdown",
   "metadata": {
    "id": "R06dbZZaYJDq"
   },
   "source": [
    "Now we'll wrap this function with a Gradio interface."
   ]
  },
  {
   "cell_type": "code",
   "execution_count": 2,
   "metadata": {
    "colab": {
     "base_uri": "https://localhost:8080/"
    },
    "id": "fJUJLWQ92g6R",
    "outputId": "85f99754-24cf-4541-f836-13c7e8e97a02"
   },
   "outputs": [],
   "source": [
    "!pip install -q gradio"
   ]
  },
  {
   "cell_type": "code",
   "execution_count": 3,
   "metadata": {
    "colab": {
     "background_save": true,
     "base_uri": "https://localhost:8080/"
    },
    "id": "e200MmBU2aLT",
    "outputId": "a78fa20b-6e6a-4d49-ddec-3b7e7f88d55a"
   },
   "outputs": [
    {
     "name": "stdout",
     "output_type": "stream",
     "text": [
      "Running on local URL:  http://10.11.5.11:7860\n",
      "\n",
      "To create a public link, set `share=True` in `launch()`.\n"
     ]
    },
    {
     "data": {
      "text/html": [
       "<div><iframe src=\"http://10.11.5.11:7860/\" width=\"100%\" height=\"500\" allow=\"autoplay; camera; microphone; clipboard-read; clipboard-write;\" frameborder=\"0\" allowfullscreen></iframe></div>"
      ],
      "text/plain": [
       "<IPython.core.display.HTML object>"
      ]
     },
     "metadata": {},
     "output_type": "display_data"
    },
    {
     "data": {
      "text/plain": []
     },
     "execution_count": 3,
     "metadata": {},
     "output_type": "execute_result"
    },
    {
     "name": "stdout",
     "output_type": "stream",
     "text": [
      "found drawing  images/black_sheep_lodge.png\n",
      "generating drawing ' blue sheep lodge ' images/blue_sheep_lodge.png\n"
     ]
    },
    {
     "data": {
      "application/vnd.jupyter.widget-view+json": {
       "model_id": "810c9faf3e6c411ba747b007109de6e6",
       "version_major": 2,
       "version_minor": 0
      },
      "text/plain": [
       "  0%|          | 0/50 [00:00<?, ?it/s]"
      ]
     },
     "metadata": {},
     "output_type": "display_data"
    },
    {
     "name": "stdout",
     "output_type": "stream",
     "text": [
      "generating drawing ' carpenter riding a horse on mars ' images/carpenter_riding_a_horse_on_mars.png\n"
     ]
    },
    {
     "data": {
      "application/vnd.jupyter.widget-view+json": {
       "model_id": "9bb8f7b68feb41b28f7ff413c9c15add",
       "version_major": 2,
       "version_minor": 0
      },
      "text/plain": [
       "  0%|          | 0/50 [00:00<?, ?it/s]"
      ]
     },
     "metadata": {},
     "output_type": "display_data"
    },
    {
     "name": "stdout",
     "output_type": "stream",
     "text": [
      "generating drawing ' jabroni riding a horse on mars ' images/jabroni_riding_a_horse_on_mars.png\n"
     ]
    },
    {
     "data": {
      "application/vnd.jupyter.widget-view+json": {
       "model_id": "4651f17e73454fae89ab3aa47bf0698d",
       "version_major": 2,
       "version_minor": 0
      },
      "text/plain": [
       "  0%|          | 0/50 [00:00<?, ?it/s]"
      ]
     },
     "metadata": {},
     "output_type": "display_data"
    }
   ],
   "source": [
    "import argparse\n",
    "import binascii\n",
    "import glob\n",
    "import openai\n",
    "import os\n",
    "import os.path\n",
    "import numpy as np\n",
    "import matplotlib.pyplot as plt\n",
    "import sys\n",
    "import tempfile\n",
    "import torch\n",
    "from PIL import Image\n",
    "from diffusers import StableDiffusionPipeline\n",
    "\n",
    "import gradio as gr\n",
    "\n",
    "demo = gr.Interface(fn=draw, inputs=\"text\", outputs=\"image\")\n",
    "demo.launch(server_name='10.11.5.11')"
   ]
  },
  {
   "cell_type": "markdown",
   "metadata": {
    "id": "uQheRaw5YVTL"
   },
   "source": [
    "That's all! Go ahead and open that share link in a new tab. Check out our [getting started](https://gradio.app/getting_started.html) page for more complicated demos."
   ]
  },
  {
   "cell_type": "code",
   "execution_count": null,
   "metadata": {},
   "outputs": [],
   "source": []
  }
 ],
 "metadata": {
  "colab": {
   "provenance": []
  },
  "kernelspec": {
   "display_name": "Python 3 (ipykernel)",
   "language": "python",
   "name": "python3"
  },
  "language_info": {
   "codemirror_mode": {
    "name": "ipython",
    "version": 3
   },
   "file_extension": ".py",
   "mimetype": "text/x-python",
   "name": "python",
   "nbconvert_exporter": "python",
   "pygments_lexer": "ipython3",
   "version": "3.10.9"
  }
 },
 "nbformat": 4,
 "nbformat_minor": 4
}
